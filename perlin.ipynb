{
 "cells": [
  {
   "cell_type": "code",
   "execution_count": null,
   "metadata": {},
   "outputs": [],
   "source": [
    "%pylab inline"
   ]
  },
  {
   "cell_type": "code",
   "execution_count": null,
   "metadata": {},
   "outputs": [],
   "source": [
    "def generate_perlin_noise_2d(shape, res):\n",
    "    \"\"\"\n",
    "    Stolen from: https://pvigier.github.io/2018/06/13/perlin-noise-numpy.html\n",
    "    \"\"\"\n",
    "    def f(t):\n",
    "        return 6*t**5 - 15*t**4 + 10*t**3\n",
    "    \n",
    "    delta = (res[0] / shape[0], res[1] / shape[1])\n",
    "    d = (shape[0] // res[0], shape[1] // res[1])\n",
    "    grid = np.mgrid[0:res[0]:delta[0],0:res[1]:delta[1]].transpose(1, 2, 0) % 1\n",
    "    # Gradients\n",
    "    angles = 2*np.pi*np.random.rand(res[0]+1, res[1]+1)\n",
    "    gradients = np.dstack((np.cos(angles), np.sin(angles)))\n",
    "    g00 = gradients[0:-1,0:-1].repeat(d[0], 0).repeat(d[1], 1)\n",
    "    g10 = gradients[1:,0:-1].repeat(d[0], 0).repeat(d[1], 1)\n",
    "    g01 = gradients[0:-1,1:].repeat(d[0], 0).repeat(d[1], 1)\n",
    "    g11 = gradients[1:,1:].repeat(d[0], 0).repeat(d[1], 1)\n",
    "    # Ramps\n",
    "    n00 = np.sum(grid * g00, 2)\n",
    "    n10 = np.sum(np.dstack((grid[:,:,0]-1, grid[:,:,1])) * g10, 2)\n",
    "    n01 = np.sum(np.dstack((grid[:,:,0], grid[:,:,1]-1)) * g01, 2)\n",
    "    n11 = np.sum(np.dstack((grid[:,:,0]-1, grid[:,:,1]-1)) * g11, 2)\n",
    "    # Interpolation\n",
    "    t = f(grid)\n",
    "    n0 = n00*(1-t[:,:,0]) + t[:,:,0]*n10\n",
    "    n1 = n01*(1-t[:,:,0]) + t[:,:,0]*n11\n",
    "    return np.sqrt(2)*((1-t[:,:,1])*n0 + t[:,:,1]*n1)\n",
    "\n",
    "def split_2d(array, splits):\n",
    "    x, y = splits\n",
    "    return np.split(np.concatenate(np.split(array, y, axis=1)), x*y)"
   ]
  },
  {
   "cell_type": "code",
   "execution_count": null,
   "metadata": {},
   "outputs": [],
   "source": [
    "m = generate_perlin_noise_2d((1500, 1500), (300, 300))\n",
    "chunks = split_2d(m, (30, 30))\n",
    "imshow(chunks[0] > 0.3)"
   ]
  },
  {
   "cell_type": "code",
   "execution_count": null,
   "metadata": {},
   "outputs": [],
   "source": [
    "def _n2_arch_map(tile):\n",
    "    if tile > 0.3:\n",
    "        return np.array([\"caveblackrock\"])\n",
    "    else:\n",
    "        return np.array([\"blackrock\"])\n",
    "    \n",
    "def sky_arch_map(tile):\n",
    "    if tile > 0.3:\n",
    "        return [\"empty_sky\", \"cloudfloor_bl\"]\n",
    "    else:\n",
    "        return [\"empty_sky\"]"
   ]
  },
  {
   "cell_type": "code",
   "execution_count": null,
   "metadata": {},
   "outputs": [],
   "source": [
    "def to_map(m, name):\n",
    "    h, w = m.shape\n",
    "    lines = []\n",
    "    lines.append(\"arch map\")\n",
    "    lines.append(\"name %s\" % name)\n",
    "    lines.append(\"width %d\" % w)\n",
    "    lines.append(\"height %d\" % h)\n",
    "    #lines.append(\"darkness %d\" % 2)\n",
    "    lines.append(\"outdoor 1\")\n",
    "    lines.append(\"tile_path_1 nonexistent\")\n",
    "    lines.append(\"end\")\n",
    "    for x in range(w):\n",
    "        for y in range(h):\n",
    "            for arch in arch_map(m[x,y]):\n",
    "                lines.append(\"arch %s\" % arch)\n",
    "                lines.append(\"x %d\" % x)\n",
    "                lines.append(\"y %d\" % y)\n",
    "                lines.append(\"elevation %d\" % -2000)\n",
    "                lines.append(\"end\")\n",
    "    return lines\n",
    "\n",
    "def write_map(m, name):\n",
    "    with open(name, 'w') as f:\n",
    "        f.write(\"\\n\".join(to_map(m, name)))\n",
    "        \n",
    "def write_world(name, chunks, h, w, start=100):\n",
    "    for n, c in enumerate(chunks):\n",
    "        x = n % w + start\n",
    "        y = n // h + start\n",
    "        write_map(c, \"%s_%d_%d\" % (name, x, y))"
   ]
  },
  {
   "cell_type": "code",
   "execution_count": null,
   "metadata": {},
   "outputs": [],
   "source": [
    "arch_map = _n2_arch_map\n",
    "write_world(\"bottomworld_-2\", chunks[:1], 30, 30)"
   ]
  },
  {
   "cell_type": "code",
   "execution_count": null,
   "metadata": {},
   "outputs": [],
   "source": [
    "arch_map = sky_arch_map\n",
    "write_world(\"bottomworld_1\", chunks, 30, 30)"
   ]
  },
  {
   "cell_type": "code",
   "execution_count": null,
   "metadata": {},
   "outputs": [],
   "source": [
    "arch_map = sky_arch_map\n",
    "write_world(\"bottomworld_2\", chunks, 30, 30)"
   ]
  }
 ],
 "metadata": {
  "kernelspec": {
   "display_name": "Python 3",
   "language": "python",
   "name": "python3"
  },
  "language_info": {
   "codemirror_mode": {
    "name": "ipython",
    "version": 3
   },
   "file_extension": ".py",
   "mimetype": "text/x-python",
   "name": "python",
   "nbconvert_exporter": "python",
   "pygments_lexer": "ipython3",
   "version": "3.6.8"
  }
 },
 "nbformat": 4,
 "nbformat_minor": 2
}
